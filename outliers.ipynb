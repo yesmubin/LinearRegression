{
  "nbformat": 4,
  "nbformat_minor": 0,
  "metadata": {
    "colab": {
      "name": "outliers.ipynb",
      "provenance": [],
      "authorship_tag": "ABX9TyNQGe+kFsgC5nuvBRIkK8/t"
    },
    "kernelspec": {
      "name": "python3",
      "display_name": "Python 3"
    },
    "language_info": {
      "name": "python"
    }
  },
  "cells": [
    {
      "cell_type": "markdown",
      "metadata": {
        "id": "5y_9XPuvAjQh"
      },
      "source": [
        "# **Basic import**\n",
        "\n",
        "\n"
      ]
    },
    {
      "cell_type": "code",
      "metadata": {
        "id": "HdP12NYZ_lBy"
      },
      "source": [
        "from sklearn import datasets\n",
        "import pandas as pd\n",
        "import numpy as np\n",
        "import matplotlib.pyplot as plt\n"
      ],
      "execution_count": 12,
      "outputs": []
    },
    {
      "cell_type": "code",
      "metadata": {
        "colab": {
          "base_uri": "https://localhost:8080/"
        },
        "id": "svRWOV2rAiNo",
        "outputId": "a29e750d-5fb7-4926-875e-3adf7c0aac05"
      },
      "source": [
        "iris= datasets.load_iris()\n",
        "X=iris.data\n",
        "Y=iris.target\n",
        "print(X.shape)"
      ],
      "execution_count": 13,
      "outputs": [
        {
          "output_type": "stream",
          "text": [
            "(150, 4)\n"
          ],
          "name": "stdout"
        }
      ]
    },
    {
      "cell_type": "code",
      "metadata": {
        "colab": {
          "base_uri": "https://localhost:8080/"
        },
        "id": "dFmU0GbGBp2e",
        "outputId": "e5a46ef6-9f3c-4030-959b-460cef58932d"
      },
      "source": [
        "#create dataframe for X\n",
        "df =  pd.DataFrame(X,columns=[\"sepal_length\",\"sepal_width\",\"petal_length\",\"petal_width\"])\n",
        "#print (df.to_string())\n",
        "df[\"class\"]=list(Y)\n",
        "print(df.shape)\n",
        "#print (df.to_string())"
      ],
      "execution_count": 19,
      "outputs": [
        {
          "output_type": "stream",
          "text": [
            "(150, 5)\n"
          ],
          "name": "stdout"
        }
      ]
    },
    {
      "cell_type": "code",
      "metadata": {
        "id": "rOK9s9xxFMtO"
      },
      "source": [
        "df.describe()"
      ],
      "execution_count": null,
      "outputs": []
    },
    {
      "cell_type": "code",
      "metadata": {
        "id": "KX9snjhBFXCk"
      },
      "source": [
        "#Boxplot\n",
        "def plot_boxplot(df,ft):\n",
        "  df.boxplot(column=[ft])\n",
        "  plt.grid(False)\n",
        "  plt.show\n",
        "\n"
      ],
      "execution_count": 21,
      "outputs": []
    },
    {
      "cell_type": "code",
      "metadata": {
        "id": "ykyu5TQQFvsw"
      },
      "source": [
        "plot_boxplot(df,\"sepal_width\")"
      ],
      "execution_count": null,
      "outputs": []
    },
    {
      "cell_type": "code",
      "metadata": {
        "id": "nycuQBIxGDE6"
      },
      "source": [
        "#define function called outliers which returns  a list of index of outliers\n",
        "#IQR = Q3-Q2\n",
        "#+/- 1.5*IQR\n",
        "def outliers(df,ft):\n",
        "  Q1 = df[ft].quantile(0.25)\n",
        "  Q3 = df[ft].quantile(0.75)\n",
        "  IQR = Q3 - Q1\n",
        "  lower_bound = Q1 - 1.5 * IQR\n",
        "  upper_bound = Q3 + 1.5*IQR\n",
        "  ls = df.index[(df[ft]<lower_bound) | (df[ft]> upper_bound)]\n",
        "  print(ls)\n",
        "  return ls\n"
      ],
      "execution_count": 38,
      "outputs": []
    },
    {
      "cell_type": "code",
      "metadata": {
        "colab": {
          "base_uri": "https://localhost:8080/"
        },
        "id": "qFwgABzVHN4e",
        "outputId": "f7a83c7e-3e58-49fb-b890-0e63f92b8cef"
      },
      "source": [
        "index_list = []\n",
        "for feature in ['sepal_width','petal_width']:\n",
        "  index_list.extend(outliers(df,feature))\n",
        "print(index_list)"
      ],
      "execution_count": 39,
      "outputs": [
        {
          "output_type": "stream",
          "text": [
            "Int64Index([15, 32, 33, 60], dtype='int64')\n",
            "Int64Index([], dtype='int64')\n",
            "[15, 32, 33, 60]\n"
          ],
          "name": "stdout"
        }
      ]
    },
    {
      "cell_type": "code",
      "metadata": {
        "id": "LNuPP_l3JLG8"
      },
      "source": [
        "#remove outliers\n",
        "def remove_outliers(df,lst):\n",
        "  lst =sorted(set(lst))\n",
        "  print(type(lst))\n",
        "  df = df.drop(lst)\n",
        "  return df"
      ],
      "execution_count": 45,
      "outputs": []
    },
    {
      "cell_type": "code",
      "metadata": {
        "colab": {
          "base_uri": "https://localhost:8080/"
        },
        "id": "RArnCF7eJhCN",
        "outputId": "92d050f7-61ab-41da-8078-0672fffcdfd0"
      },
      "source": [
        "df_cleaned = remove_outliers(df,index_list)\n",
        "df_cleaned.shape"
      ],
      "execution_count": 47,
      "outputs": [
        {
          "output_type": "stream",
          "text": [
            "<class 'list'>\n"
          ],
          "name": "stdout"
        },
        {
          "output_type": "execute_result",
          "data": {
            "text/plain": [
              "(146, 5)"
            ]
          },
          "metadata": {
            "tags": []
          },
          "execution_count": 47
        }
      ]
    },
    {
      "cell_type": "code",
      "metadata": {
        "id": "_XGqW_-iJ4pi"
      },
      "source": [
        "plot_boxplot(df_cleaned,\"sepal_width\")"
      ],
      "execution_count": null,
      "outputs": []
    }
  ]
}